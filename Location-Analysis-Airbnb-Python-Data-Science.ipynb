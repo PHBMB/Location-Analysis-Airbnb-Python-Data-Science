{
 "cells": [
  {
   "cell_type": "markdown",
   "metadata": {
    "button": false,
    "new_sheet": false,
    "run_control": {
     "read_only": false
    }
   },
   "source": [
    "<h1 align=\"left\">Where to Open a new Airbnb in Tokyo?</h1>\n"
   ]
  },
  {
   "cell_type": "markdown",
   "metadata": {},
   "source": [
    "## Table of Contents\n",
    "* [Introduction: Business Problem](#introduction)\n",
    "* [Data](#data)\n",
    "* [Imports](#imports)\n",
    "* [Foursquare Credentials and Version](#foursquare)\n",
    "* [Data Collection & Preparation ](#dataCollAndPrep)\n",
    "* [Methodology](#methodology)\n",
    "* [Analysis](#analysis)\n",
    "* [Results and Discussion](#resultsDiscussion)\n",
    "* [Conclusion](#conclusion)"
   ]
  },
  {
   "cell_type": "markdown",
   "metadata": {
    "button": false,
    "new_sheet": false,
    "run_control": {
     "read_only": false
    }
   },
   "source": [
    "# Introduction: Business Problem <a name=\"introduction\"></a>"
   ]
  },
  {
   "cell_type": "markdown",
   "metadata": {},
   "source": [
    "Visiting Tokyo feels like taking a trip to the future. Robots serve and deliver your food. Vending machines sell everything — from umbrellas to puppies. This modern world is combined with old traditions and creates a unique place. It is no wonder that Tokyo attracts countless tourists every year. Therefore Tokyo has been a growing market for property owners renting out their space for the public; 民泊 or minpaku as they would call it in Japanese. Like everywhere else in the world, Airbnb has started to take over a large part of the hotel industry through its disruptive business model.\n",
    "\n",
    "Since Airbnb is already playing a major role for tourism in Tokyo and is likely to continue to do so in the future, I would like to perform a data-driven location analysis for possible new Airbnbs.\n",
    "\n",
    "Tokyo is the de facto capital and most populous prefecture of Japan, which is located at the head of Tokyo Bay. As of 2021, the prefecture has an estimated population of 13,960,236. The Greater Tokyo Area is the most populous metropolitan area in the world, with more than 37.393 million residents as of 2020. This large city attracts more tourists every year — tourism is steadily increasing. It is very likely that the COVID-19 period is just an exception to this trend. I expect an rebound in this sector when COVID-19 is largely and effectively treatable or preventable. This rebound is also one reason why many people fear inflation, but that is another topic.\n",
    "\n",
    "To figure out where it would be worthwhile to open an Airbnb in Tokyo, we need to understand the supply and demand relationship first. When supply noticeably exceeds demand, strong competition is likely to occur, often leading to price wars. At the end of this process the market equilibrium will be restored by the exit of market participants. This circumstance leads us to the first principle of this analysis:\n",
    "- If a new Airbnb is to be opened, competition in the surrounding area should be at a healthy level.\n",
    "\n",
    "Let’s take a look at the demand. In Tokyo, everything can be reached very well by the public transport network. Nevertheless, it can be assumed that tourists want to be surrounded by certain venues and do not want to be too far away from the city center. Tourists tend to like traditional sushi bars, authentic local ramen stalls and extraordinary coffee shops nearby. The bottom line is that it should be an area where tourist can discover a lot, which leads us to the second principle:\n",
    "- If an new Airbnb is to be opened, the area should have top rated venues which are relevant for tourists and the location should not be too far away from the city center.\n",
    "\n",
    "The goal is to identify places in Tokyo that fulfill both principles."
   ]
  },
  {
   "cell_type": "markdown",
   "metadata": {},
   "source": [
    "# Data <a name=\"data\"></a>"
   ]
  },
  {
   "cell_type": "markdown",
   "metadata": {},
   "source": [
    "Based on definition of our problem, factors that will influence our decission are:\n",
    "- number of existing Airbnbs in the neighborhoods of Tokyo\n",
    "- most popular venues which mainly characterise a neighborhood\n",
    "\n",
    "Following data sources will be needed to extract/generate the required information:\n",
    "- Airbnb data: http://insideairbnb.com/get-the-data.html\n",
    "- Venues data: https://foursquare.com/"
   ]
  },
  {
   "cell_type": "markdown",
   "metadata": {},
   "source": [
    "# Imports <a name=\"imports\"></a>"
   ]
  },
  {
   "cell_type": "code",
   "execution_count": null,
   "metadata": {
    "button": false,
    "new_sheet": false,
    "run_control": {
     "read_only": false
    }
   },
   "outputs": [],
   "source": [
    "import re\n",
    "import json\n",
    "import requests\n",
    "import numpy as np\n",
    "from bs4 import BeautifulSoup\n",
    "\n",
    "import pandas as pd\n",
    "#display all rows\n",
    "pd.set_option('display.max_rows', None)\n",
    "#display all columns\n",
    "pd.set_option('display.max_columns', None)\n",
    "\n",
    "from sklearn.cluster import KMeans\n",
    "from sklearn.metrics import silhouette_samples, silhouette_score\n",
    "\n",
    "from geopy.geocoders import Nominatim\n",
    "\n",
    "import folium\n",
    "\n",
    "import matplotlib.image as mpimg\n",
    "import matplotlib.cm as cm\n",
    "import matplotlib.colors as colors\n",
    "import matplotlib.pyplot as plt\n",
    "%matplotlib inline\n",
    "\n",
    "print('Libraries imported.')"
   ]
  },
  {
   "cell_type": "markdown",
   "metadata": {},
   "source": [
    "# Foursquare Credentials and Version <a name=\"foursquare\"></a>"
   ]
  },
  {
   "cell_type": "code",
   "execution_count": null,
   "metadata": {},
   "outputs": [],
   "source": [
    "CLIENT_ID = 'F0DBD3KFRW1D155EIDSD35QWHUYJA2KGUDORUHARQMAHDZQK' # your Foursquare ID\n",
    "CLIENT_SECRET = 'CR2E2ZJGBG5UQZUHTLOLM4PAWAAUTHISBEQ1I3PIELIFN4AQ' # your Foursquare Secret\n",
    "VERSION = '20180605' # Foursquare API version\n",
    "LIMIT = 100 # A default Foursquare API limit value\n",
    "\n",
    "print('Your credentails:')\n",
    "print('CLIENT_ID: ' + CLIENT_ID)\n",
    "print('CLIENT_SECRET:' + CLIENT_SECRET)"
   ]
  },
  {
   "cell_type": "markdown",
   "metadata": {},
   "source": [
    "# Data Collection & Preparation <a name=\"dataCollAndPrep\"></a>"
   ]
  },
  {
   "cell_type": "markdown",
   "metadata": {},
   "source": [
    "## Let's get the Airbnb Data"
   ]
  },
  {
   "cell_type": "code",
   "execution_count": null,
   "metadata": {},
   "outputs": [],
   "source": [
    "bnbdf= pd.read_csv(\"http://data.insideairbnb.com/japan/kant%C5%8D/tokyo/2021-02-25/visualisations/listings.csv\")"
   ]
  },
  {
   "cell_type": "code",
   "execution_count": null,
   "metadata": {},
   "outputs": [],
   "source": [
    "bnbdf.head()"
   ]
  },
  {
   "cell_type": "markdown",
   "metadata": {},
   "source": [
    "The data looks pretty good so far. Next we delete all columns that are not relevant."
   ]
  },
  {
   "cell_type": "code",
   "execution_count": null,
   "metadata": {},
   "outputs": [],
   "source": [
    "df_Airbnb = bnbdf.drop(['id', 'host_id', 'host_name', 'neighbourhood_group', 'room_type', 'minimum_nights', 'number_of_reviews', 'last_review', 'calculated_host_listings_count', 'availability_365'], axis=1)"
   ]
  },
  {
   "cell_type": "markdown",
   "metadata": {},
   "source": [
    "Rename the column 'name' to 'Venue'."
   ]
  },
  {
   "cell_type": "code",
   "execution_count": null,
   "metadata": {},
   "outputs": [],
   "source": [
    "df_Airbnb.rename(columns = {'name': 'Venue', 'neighbourhood': 'Neighborhood', 'latitude':'Venue Latitude', 'longitude':'Venue Longitude', 'price': 'Price', 'reviews_per_month': 'Reviews per Month'}, inplace = True)"
   ]
  },
  {
   "cell_type": "code",
   "execution_count": null,
   "metadata": {},
   "outputs": [],
   "source": [
    "df_Airbnb.head()"
   ]
  },
  {
   "cell_type": "markdown",
   "metadata": {},
   "source": [
    "Initializing a column for the venue categories."
   ]
  },
  {
   "cell_type": "code",
   "execution_count": null,
   "metadata": {},
   "outputs": [],
   "source": [
    "df_Airbnb['Venue Category'] = 'Airbnb'"
   ]
  },
  {
   "cell_type": "code",
   "execution_count": null,
   "metadata": {},
   "outputs": [],
   "source": [
    "df_Airbnb.head()"
   ]
  },
  {
   "cell_type": "markdown",
   "metadata": {},
   "source": [
    "Drop every line which has no coordinate values. "
   ]
  },
  {
   "cell_type": "code",
   "execution_count": null,
   "metadata": {},
   "outputs": [],
   "source": [
    "nan_value = float(\"NaN\")\n",
    "df_Airbnb.replace(\"\", nan_value, inplace=True)\n",
    "# drop all NaN rows when NaN is found in the column COLUMNNAME\n",
    "df_Airbnb.dropna(subset = [\"Venue Latitude\"], inplace=True)\n",
    "df_Airbnb.dropna(subset = [\"Venue Longitude\"], inplace=True)\n",
    "df_Airbnb.head()"
   ]
  },
  {
   "cell_type": "markdown",
   "metadata": {},
   "source": [
    "Now we got all neighborhoods and Airbnbs of Tokyo."
   ]
  },
  {
   "cell_type": "markdown",
   "metadata": {},
   "source": [
    "## Let's get the Coordinates of each Neighborhood"
   ]
  },
  {
   "cell_type": "markdown",
   "metadata": {},
   "source": [
    "This is necessary, because we will create clusters based on the neighborhoods."
   ]
  },
  {
   "cell_type": "markdown",
   "metadata": {},
   "source": [
    "Function for getting the coordinates of a neighborhood:"
   ]
  },
  {
   "cell_type": "code",
   "execution_count": null,
   "metadata": {},
   "outputs": [],
   "source": [
    "def getCoordinatesOfLocation(address: str):\n",
    "    d = dict()\n",
    "    d['latitude'] = \"\"\n",
    "    d['longitude'] = \"\"\n",
    "    try: \n",
    "        geolocator = Nominatim(user_agent=\"tokyo_explorer\")\n",
    "        location = geolocator.geocode(address)\n",
    "        d['latitude'] = location.latitude\n",
    "        d['longitude'] = location.longitude\n",
    "    except: \n",
    "        pass\n",
    "    return d"
   ]
  },
  {
   "cell_type": "markdown",
   "metadata": {},
   "source": [
    "Test the function"
   ]
  },
  {
   "cell_type": "code",
   "execution_count": null,
   "metadata": {},
   "outputs": [],
   "source": [
    "getCoordinatesOfLocation('Sumida Ku Tokyo')"
   ]
  },
  {
   "cell_type": "markdown",
   "metadata": {},
   "source": [
    "Let's define the future data frame structure."
   ]
  },
  {
   "cell_type": "code",
   "execution_count": null,
   "metadata": {},
   "outputs": [],
   "source": [
    "df_Airbnb[\"Neighborhood Latitude\"] = \"\"\n",
    "df_Airbnb[\"Neighborhood Longitude\"] = \"\"\n",
    "df_Airbnb = df_Airbnb.reindex(['Neighborhood','Neighborhood Latitude','Neighborhood Longitude', 'Venue', 'Venue Latitude', 'Venue Longitude', 'Price', 'Reviews per Month', 'Venue Category'], axis=1)\n",
    "df_Airbnb.head()"
   ]
  },
  {
   "cell_type": "markdown",
   "metadata": {},
   "source": [
    "Let's create a dictionary for the neighborhood coordinates. This directory is used to fill the coordinates of all Airbnbs in Tokyo. With this step, we ensure faster processing of the data."
   ]
  },
  {
   "cell_type": "code",
   "execution_count": null,
   "metadata": {},
   "outputs": [],
   "source": [
    "neighborhood_dic = []"
   ]
  },
  {
   "cell_type": "markdown",
   "metadata": {},
   "source": [
    "Let´s create a search function for the distionary."
   ]
  },
  {
   "cell_type": "code",
   "execution_count": null,
   "metadata": {},
   "outputs": [],
   "source": [
    "def search(nh):\n",
    "    for p in neighborhood_dic:\n",
    "        if p['nh'] == nh:\n",
    "            return p\n",
    "    return \"\""
   ]
  },
  {
   "cell_type": "code",
   "execution_count": null,
   "metadata": {},
   "outputs": [],
   "source": [
    "for index, row in df_Airbnb.iterrows():\n",
    "    curAddressPrefix = row['Neighborhood']\n",
    "    curAddress = curAddressPrefix + ' Tokyo'\n",
    "    dicSearchResult = search(curAddressPrefix) \n",
    "    if dicSearchResult:\n",
    "        df_Airbnb.at[index,'Neighborhood Latitude'] = dicSearchResult['lat']\n",
    "        df_Airbnb.at[index,'Neighborhood Longitude'] = dicSearchResult['long']\n",
    "    else:\n",
    "        curCoordinatesObject = getCoordinatesOfLocation(curAddress)\n",
    "        curLatitude = curCoordinatesObject['latitude']\n",
    "        curLong = curCoordinatesObject['longitude']\n",
    "        df_Airbnb.at[index,'Neighborhood Latitude'] = curLatitude\n",
    "        df_Airbnb.at[index,'Neighborhood Longitude'] = curLong\n",
    "        neighborhood_dic.append({'nh': curAddressPrefix, 'lat': str(curLatitude), 'long': str(curLong)})\n",
    "    print(index, end='\\r')\n",
    "print()\n",
    "df_Airbnb.head()"
   ]
  },
  {
   "cell_type": "markdown",
   "metadata": {},
   "source": [
    "Let's check if every neighborhood has coordinates."
   ]
  },
  {
   "cell_type": "code",
   "execution_count": null,
   "metadata": {},
   "outputs": [],
   "source": [
    "cols_to_excl = ['Reviews per Month']\n",
    "df_Airbnb.loc[df_Airbnb[df_Airbnb.columns ^ cols_to_excl].isnull().any(axis=1)]"
   ]
  },
  {
   "cell_type": "markdown",
   "metadata": {},
   "source": [
    "Perfect, our table of Airbnb’s master data is created."
   ]
  },
  {
   "cell_type": "markdown",
   "metadata": {},
   "source": [
    "## Let's Visualize all Airbnbs in Tokyo"
   ]
  },
  {
   "cell_type": "code",
   "execution_count": null,
   "metadata": {
    "tags": []
   },
   "outputs": [],
   "source": [
    "address = 'Setagaya Ku Tokyo'\n",
    "\n",
    "geolocator = Nominatim(user_agent=\"tokyo_explorer\")\n",
    "location = geolocator.geocode(address)\n",
    "latitude = location.latitude\n",
    "longitude = location.longitude\n",
    "print('The geographical coordinate of Tokyo are {}, {}.'.format(latitude, longitude))\n",
    "\n",
    "tokyo_map = folium.Map(location=[latitude, longitude], zoom_start=11)    \n"
   ]
  },
  {
   "cell_type": "markdown",
   "metadata": {},
   "source": [
    "Let's display all existing Airbnb’s of Tokyo. This is an intersection of the total competition."
   ]
  },
  {
   "cell_type": "code",
   "execution_count": null,
   "metadata": {
    "tags": []
   },
   "outputs": [],
   "source": [
    "for lat, lng in zip(df_Airbnb['Venue Latitude'], df_Airbnb['Venue Longitude']):\n",
    "    label = '{}'.format('Airbnb')\n",
    "    label = folium.Popup(label, parse_html=True)\n",
    "    folium.CircleMarker(\n",
    "        [lat, lng],\n",
    "        radius=5,\n",
    "        popup=label,\n",
    "        color='blue',\n",
    "        fill=True,\n",
    "        fill_color='#3186cc',\n",
    "        fill_opacity=0.7,\n",
    "        parse_html=False).add_to(tokyo_map)  \n",
    "\n",
    "tokyo_map"
   ]
  },
  {
   "cell_type": "code",
   "execution_count": null,
   "metadata": {},
   "outputs": [],
   "source": [
    "df_Airbnb_GROUPD = df_Airbnb.groupby(['Neighborhood'], sort=True)['Venue'].count()\n",
    "df_Airbnb_GROUPD.plot.bar(figsize=(18,6), title=\"Total Airbnbs grouped by Neighborhood\")"
   ]
  },
  {
   "cell_type": "markdown",
   "metadata": {},
   "source": [
    "## Let's get the Neighbarhood Data from Tokyo"
   ]
  },
  {
   "cell_type": "markdown",
   "metadata": {},
   "source": [
    "The following function will send a explore request for each neighborhood and return the 100 most popular places in the neighborhood around 750 meters. With this information the neighborhoods can be classified. This classification is intended to identify where an Airbnb fits best. Together with the information about the competition, it should be possible to derive suitable recommendations."
   ]
  },
  {
   "cell_type": "code",
   "execution_count": null,
   "metadata": {},
   "outputs": [],
   "source": [
    "def getNearbyVenues(names, latitudes, longitudes, radius=500):\n",
    "    \n",
    "    venues_list=[]\n",
    "    for name, lat, lng in zip(names, latitudes, longitudes):\n",
    "        print(name)\n",
    "            \n",
    "        # create the API request URL\n",
    "        url = 'https://api.foursquare.com/v2/venues/explore?&client_id={}&client_secret={}&v={}&ll={},{}&radius={}&limit={}'.format(\n",
    "            CLIENT_ID, \n",
    "            CLIENT_SECRET, \n",
    "            VERSION, \n",
    "            lat, \n",
    "            lng,\n",
    "            radius, \n",
    "            LIMIT)\n",
    "            \n",
    "        # make the GET request\n",
    "        try:\n",
    "            results = requests.get(url).json()[\"response\"]['groups'][0]['items']\n",
    "        except:\n",
    "            print(requests.get(url).json())\n",
    "            \n",
    "        \n",
    "        # return only relevant information for each nearby venue\n",
    "        venues_list.append([(\n",
    "            name, \n",
    "            lat, \n",
    "            lng, \n",
    "            v['venue']['name'], \n",
    "            v['venue']['location']['lat'], \n",
    "            v['venue']['location']['lng'],  \n",
    "            v['venue']['categories'][0]['name']) for v in results])\n",
    "\n",
    "    nearby_venues = pd.DataFrame([item for venue_list in venues_list for item in venue_list])\n",
    "    nearby_venues.columns = ['Neighborhood', \n",
    "                  'Neighborhood Latitude', \n",
    "                  'Neighborhood Longitude', \n",
    "                  'Venue', \n",
    "                  'Venue Latitude', \n",
    "                  'Venue Longitude', \n",
    "                  'Venue Category']\n",
    "    \n",
    "    return(nearby_venues)"
   ]
  },
  {
   "cell_type": "markdown",
   "metadata": {},
   "source": [
    "Let's get a distinct list of all neighborhoods to get the left venues data."
   ]
  },
  {
   "cell_type": "code",
   "execution_count": null,
   "metadata": {},
   "outputs": [],
   "source": [
    "disc_neighborhood_df = df_Airbnb.copy()\n",
    "disc_neighborhood_df.drop(['Venue', 'Venue Latitude', 'Venue Longitude', 'Venue Category', 'Price', 'Reviews per Month'], axis=1, inplace=True)\n",
    "disc_neighborhood_df.drop_duplicates(subset=['Neighborhood'], keep='first', inplace = True)\n",
    "disc_neighborhood_df.head()"
   ]
  },
  {
   "cell_type": "markdown",
   "metadata": {},
   "source": [
    "Let's get Tokyo's venues."
   ]
  },
  {
   "cell_type": "code",
   "execution_count": null,
   "metadata": {
    "tags": []
   },
   "outputs": [],
   "source": [
    "tokyo_venues = getNearbyVenues(names=disc_neighborhood_df['Neighborhood'], latitudes=disc_neighborhood_df['Neighborhood Latitude'], longitudes=disc_neighborhood_df['Neighborhood Longitude'])\n",
    "print(tokyo_venues.shape)\n",
    "tokyo_venues.head()"
   ]
  },
  {
   "cell_type": "code",
   "execution_count": null,
   "metadata": {},
   "outputs": [],
   "source": [
    "tokyo_venues.groupby(['Neighborhood'], sort=True)['Venue'].count().plot.bar(figsize=(18,6), title=\"Venues grouped by Neighborhood\")"
   ]
  },
  {
   "cell_type": "markdown",
   "metadata": {},
   "source": [
    "We can see that some neighborhoods have more popular places than others. "
   ]
  },
  {
   "cell_type": "markdown",
   "metadata": {},
   "source": [
    "# Methodology <a name=\"methodology\"></a>"
   ]
  },
  {
   "cell_type": "markdown",
   "metadata": {},
   "source": [
    "Now we have all the public data to find out which place has potential for a new Airbnb. It is time for the data analysis, which will be conducted as follows.\n",
    "\n",
    "With the Airbnb data we will create an competition index (0–100) for all neighborhoods. Additionally we will use a heatmap to display the distribution of all Airbnbs, a second heatmap to display the differences in renting prices and a third one to get an impression of the booking utilization. With this evaluation, it should be possible to obtain a good understanding of the competitive situation.\n",
    "\n",
    "After we have analyzed all the information about the competitive situation, we will analyze the attractiveness of each neighborhood regarding Airbnbs with tourists as target group. Here we will cluster all neighborhoods of Tokyo based on their venue structure with the k-means algorithm. Through the characteristics of the clusters, we can find out which clusters are interesting for tourists.\n",
    "\n",
    "In the final part of the analysis, we combine the information from the competitive situation and the attractiveness of each cluster for tourists. Interesting clusters are examined further up to the neighborhood level."
   ]
  },
  {
   "cell_type": "markdown",
   "metadata": {},
   "source": [
    "# Analysis <a name=\"analysis\"></a>"
   ]
  },
  {
   "cell_type": "markdown",
   "metadata": {},
   "source": [
    "## Airbnb"
   ]
  },
  {
   "cell_type": "markdown",
   "metadata": {},
   "source": [
    "The Airbnb data looks good and requires no further adjustments. In order to create a competition index, we group all Airbnbs by their neighborhoods and calculate their percentage of the total number of Airbnbs in Tokyo."
   ]
  },
  {
   "cell_type": "code",
   "execution_count": null,
   "metadata": {},
   "outputs": [],
   "source": [
    "df_compIndex = df_Airbnb['Neighborhood'].value_counts(normalize=True,sort=False).mul(100) # mul(100) is == *100\n",
    "df_compIndex.index.name,df_compIndex.name='Neighborhood','percentage_' #setting the name of index and series\n",
    "df_compIndex = df_compIndex.to_frame()\n",
    "df_compIndex.rename(columns = {'Neighborhood': 'Competition Index'}, inplace = True)\n",
    "df_compIndex.sort_values('percentage_',ascending=False, inplace=True)\n",
    "df_compIndex.plot.bar(figsize=(18,6), title=\"Competition Index (0-100) of Airbnbs grouped by Neighborhood\")"
   ]
  },
  {
   "cell_type": "markdown",
   "metadata": {},
   "source": [
    "Now we have an initial understanding of how Airbnbs are distributed in Tokyo. Still, it lacks a clear picture. Therefore, we generate a heatmap with the heatmap plugin from folium that displays this distribution on a map."
   ]
  },
  {
   "cell_type": "code",
   "execution_count": null,
   "metadata": {},
   "outputs": [],
   "source": [
    "from folium.plugins import HeatMap\n",
    "heatMap_Tokyo = folium.Map(location=[latitude, longitude], zoom_start=11)\n",
    "data = list(zip(df_Airbnb['Venue Latitude'],df_Airbnb['Venue Longitude']))\n",
    "HeatMap(data,radius=8,gradient={0.2:'blue',0.4:'purple',0.6:'orange',1.0:'red'}).add_to(heatMap_Tokyo)\n",
    "display(heatMap_Tokyo)"
   ]
  },
  {
   "cell_type": "markdown",
   "metadata": {},
   "source": [
    "Now there is already a pretty good understanding of how the competition is distributed. Next, it is interesting to understand if some Airbnbs are more expensive than others in some areas of the city. For this we create a price heatmap. Before we visualize the price heatmap we need to identify outlier to increase the likelihood that the prices are related to the area and not to extremely luxurious furniture etc. We do that by excluding all Airbnbs that are more expensive than the upper quartile of the boxplot for the rental fees."
   ]
  },
  {
   "cell_type": "code",
   "execution_count": null,
   "metadata": {},
   "outputs": [],
   "source": [
    "boxplot_Airbnb_price = df_Airbnb.boxplot(column=['Price'])\n",
    "df_Airbnb['Price'].describe()"
   ]
  },
  {
   "cell_type": "code",
   "execution_count": null,
   "metadata": {},
   "outputs": [],
   "source": [
    "df_Airbnb_noOutlier = df_Airbnb[df_Airbnb['Price'] < 12000]\n",
    "df_Airbnb_noOutlier.head()"
   ]
  },
  {
   "cell_type": "markdown",
   "metadata": {},
   "source": [
    "Next, we create a scatter plot and place the map of Tokyo behind it."
   ]
  },
  {
   "cell_type": "code",
   "execution_count": null,
   "metadata": {},
   "outputs": [],
   "source": [
    "# import our image (https://www.openstreetmap.org/export#map=12/35.6933/139.7650)\n",
    "tokyo_img = mpimg.imread('Tokyo2.png')\n",
    "# plot the data\n",
    "ax = df_Airbnb_noOutlier.plot(\n",
    "    kind=\"scatter\", \n",
    "    x=\"Venue Longitude\", \n",
    "    y=\"Venue Latitude\",\n",
    "    figsize=(15*2,8*2),\n",
    "    c=\"Price\", \n",
    "    cmap='Reds',\n",
    "    colorbar=True, \n",
    "    alpha=0.4,\n",
    ")\n",
    "# use our map with it's bounding coordinates\n",
    "plt.imshow(tokyo_img, extent=[139.5384, 139.9916, 35.5702, 35.8161], alpha=0.5)  \n",
    "plt.ylabel(\"Latitude\", fontsize=14)\n",
    "plt.xlabel(\"Longitude\", fontsize=14)\n",
    "\n",
    "plt.show()"
   ]
  },
  {
   "cell_type": "markdown",
   "metadata": {},
   "source": [
    "It would be perfect to know how utilized the Airbnbs are. Unfortunately, this data is not available to the public. However, the prices of Airbnbs already reveal a lot about the locations, as those are formed via supply and demand. Nevertheless, the Airbnb platform is based on mutual reviews, so the number of average monthly reviews can be an indicator of the occupancy. Let’s visualize the average monthly reviews as a heatmap, like the price heatmap."
   ]
  },
  {
   "cell_type": "code",
   "execution_count": null,
   "metadata": {},
   "outputs": [],
   "source": [
    "df_Airbnb_avgMonthReviews_cleaned = df_Airbnb.copy()\n",
    "nan_value = float(\"NaN\")\n",
    "df_Airbnb_avgMonthReviews_cleaned.replace(\"\", nan_value, inplace=True)\n",
    "# drop all NaN rows when NaN is found in the column COLUMNNAME\n",
    "df_Airbnb_avgMonthReviews_cleaned.dropna(subset = [\"Reviews per Month\"], inplace=True)\n",
    "print('Rows of the original Airbnb dataset: ', df_Airbnb.shape[0])\n",
    "print('Rows of the cleaned Airbnb dataset for the average monthly reviews: ', df_Airbnb_avgMonthReviews_cleaned.shape[0])\n",
    "print('Difference of both datasets: ', df_Airbnb.shape[0] - df_Airbnb_avgMonthReviews_cleaned.shape[0])"
   ]
  },
  {
   "cell_type": "markdown",
   "metadata": {},
   "source": [
    "2.107 Airbnbs have not data in the relevant column. Therefore, the dataset is incomplete regarding the average monthly reviews. Nevertheless, let's get the heatmap for the impression."
   ]
  },
  {
   "cell_type": "markdown",
   "metadata": {},
   "source": [
    "Let's get rid of the outliers to capture the average situation."
   ]
  },
  {
   "cell_type": "code",
   "execution_count": null,
   "metadata": {},
   "outputs": [],
   "source": [
    "df_Airbnb_avgMonthReviews_cleaned['Reviews per Month'].describe()"
   ]
  },
  {
   "cell_type": "code",
   "execution_count": null,
   "metadata": {
    "tags": []
   },
   "outputs": [],
   "source": [
    "df_Airbnb_avgMonthReviews_noOutlier = df_Airbnb_avgMonthReviews_cleaned[df_Airbnb_avgMonthReviews_cleaned['Reviews per Month'] < 1.610000]"
   ]
  },
  {
   "cell_type": "code",
   "execution_count": null,
   "metadata": {},
   "outputs": [],
   "source": [
    "# import our image (https://www.openstreetmap.org/export#map=12/35.6933/139.7650)\n",
    "tokyo_img = mpimg.imread('Tokyo2.png')\n",
    "# plot the data\n",
    "ax = df_Airbnb_avgMonthReviews_noOutlier.plot(\n",
    "    kind=\"scatter\", \n",
    "    x=\"Venue Longitude\", \n",
    "    y=\"Venue Latitude\",\n",
    "    figsize=(15*2,8*2),\n",
    "    c=\"Reviews per Month\", \n",
    "    cmap='Greens',\n",
    "    colorbar=True, \n",
    "    alpha=0.4,\n",
    ")\n",
    "# use our map with it's bounding coordinates\n",
    "plt.imshow(tokyo_img, extent=[139.5384, 139.9916, 35.5702, 35.8161], alpha=0.5)  \n",
    "plt.ylabel(\"Latitude\", fontsize=14)\n",
    "plt.xlabel(\"Longitude\", fontsize=14)\n",
    "\n",
    "plt.show()"
   ]
  },
  {
   "cell_type": "markdown",
   "metadata": {},
   "source": [
    "## Venues"
   ]
  },
  {
   "cell_type": "code",
   "execution_count": null,
   "metadata": {},
   "outputs": [],
   "source": [
    "print('- There are {} relevant and unique venue categories in Tokyo.'.format(len(tokyo_venues['Venue Category'].unique())))\n",
    "print('- There are {} relevant and different venues in Tokyo.'.format(tokyo_venues.shape[0]))"
   ]
  },
  {
   "cell_type": "code",
   "execution_count": null,
   "metadata": {},
   "outputs": [],
   "source": [
    "boxplot = tokyo_venues.groupby('Neighborhood').count().boxplot(column=['Venue'])\n",
    "tokyo_venues.groupby(['Neighborhood'], sort=True)['Venue'].count().describe()"
   ]
  },
  {
   "cell_type": "markdown",
   "metadata": {},
   "source": [
    "The venues database contains 1.451 relevant venues with 228 unique venue categories in Tokyo. By this collection of the most popular venues for each neighborhood we have created a database that categorizes and reflects the attractiveness of each neighborhood. Looking at the data, it is noticeable that there are neighborhoods which have only a few popular venues.\n",
    "\n",
    "The lower quartile of the box plot of Tokyo's venue data is defined by 13 different venues.\n",
    "We only want to include areas that are attractive for tourists, therefore we only consider neighborhoods in the analysis that are above the lower quartile of the box plot. A quick google check of these neighborhoods below the lower quartile of the box plot confirmed this approach."
   ]
  },
  {
   "cell_type": "markdown",
   "metadata": {},
   "source": [
    "### Final Data Preparation of the Venue Data"
   ]
  },
  {
   "cell_type": "markdown",
   "metadata": {},
   "source": [
    "Ensuring that only neighborhoods are taken into account that are relevant for tourists. "
   ]
  },
  {
   "cell_type": "code",
   "execution_count": null,
   "metadata": {},
   "outputs": [],
   "source": [
    "tokyo_venues_grouped = tokyo_venues.groupby(['Neighborhood'], sort=False)['Venue'].count()\n",
    "tokyo_venues_grouped = tokyo_venues_grouped[tokyo_venues_grouped >= 13]\n",
    "tokyo_venues_grouped.plot.bar(figsize=(18,6))"
   ]
  },
  {
   "cell_type": "code",
   "execution_count": null,
   "metadata": {},
   "outputs": [],
   "source": [
    "tokyo_venues_prepared = tokyo_venues[tokyo_venues['Neighborhood'].isin(tokyo_venues_grouped.index.tolist())]\n",
    "tokyo_venues_prepared.head()"
   ]
  },
  {
   "cell_type": "markdown",
   "metadata": {},
   "source": [
    "Now we want to cluster all the neighborhoods in order to identify those cluster which should be interesting for tourism. For this we use the k-means clustering algorithm. After one hot encoding the venue categories, grouping them together and calculating the mean value of the frequency of occurrence of each category we get the data structure required for the k-means algorithm."
   ]
  },
  {
   "cell_type": "markdown",
   "metadata": {},
   "source": [
    "### One Hot Encoding"
   ]
  },
  {
   "cell_type": "code",
   "execution_count": null,
   "metadata": {},
   "outputs": [],
   "source": [
    "tokyo_venues_prepared_onehot = pd.get_dummies(tokyo_venues_prepared['Venue Category'], prefix=\"\", prefix_sep=\"\")\n",
    "\n",
    "# add neighborhood column back to dataframe\n",
    "tokyo_venues_prepared_onehot['Neighborhood'] = tokyo_venues_prepared['Neighborhood'] \n",
    "\n",
    "# move neighborhood column to the first column\n",
    "fixed_columns = tokyo_venues_prepared_onehot.columns.tolist()\n",
    "fixed_columns.insert(0, fixed_columns.pop(fixed_columns.index('Neighborhood')))\n",
    "tokyo_venues_prepared_onehot = tokyo_venues_prepared_onehot.reindex(columns = fixed_columns)\n",
    "\n",
    "print(tokyo_venues_prepared_onehot.shape)\n",
    "tokyo_venues_prepared_onehot.head()"
   ]
  },
  {
   "cell_type": "markdown",
   "metadata": {},
   "source": [
    "Let's group the data by neighborhood and calculate the mean value of the frequency of occurrence of each category."
   ]
  },
  {
   "cell_type": "code",
   "execution_count": null,
   "metadata": {},
   "outputs": [],
   "source": [
    "tokyo_venues_prepared_onehot_grouped = tokyo_venues_prepared_onehot.groupby('Neighborhood').mean().reset_index()\n",
    "print(tokyo_venues_prepared_onehot_grouped.shape)\n",
    "tokyo_venues_prepared_onehot_grouped.head()"
   ]
  },
  {
   "cell_type": "markdown",
   "metadata": {},
   "source": [
    "The following function returns the top venues of each neighborhood."
   ]
  },
  {
   "cell_type": "code",
   "execution_count": null,
   "metadata": {},
   "outputs": [],
   "source": [
    "def return_most_common_venues(row, num_top_venues):\n",
    "    row_categories = row.iloc[1:]\n",
    "    row_categories_sorted = row_categories.sort_values(ascending=False)\n",
    "    \n",
    "    return row_categories_sorted.index.values[0:num_top_venues]"
   ]
  },
  {
   "cell_type": "markdown",
   "metadata": {},
   "source": [
    "Let's use the above function to obtain the 10 most common venues in each neighborhood and store it in the new pandas data frame neighborhoods_venues_sorted."
   ]
  },
  {
   "cell_type": "code",
   "execution_count": null,
   "metadata": {},
   "outputs": [],
   "source": [
    "num_top_venues = 10\n",
    "\n",
    "indicators = ['st', 'nd', 'rd']\n",
    "\n",
    "# create column names according to number of top venues\n",
    "columns = ['Neighborhood']\n",
    "for ind in np.arange(num_top_venues):\n",
    "    try:\n",
    "        columns.append('{}{} Most Common Venue'.format(ind+1, indicators[ind]))\n",
    "    except:\n",
    "        columns.append('{}th Most Common Venue'.format(ind+1))\n",
    "\n",
    "# create a new dataframe\n",
    "neighborhoods_venues_sorted = pd.DataFrame(columns=columns)\n",
    "neighborhoods_venues_sorted['Neighborhood'] = tokyo_venues_prepared_onehot_grouped['Neighborhood']\n",
    "\n",
    "for ind in np.arange(tokyo_venues_prepared_onehot_grouped.shape[0]):\n",
    "    neighborhoods_venues_sorted.iloc[ind, 1:] = return_most_common_venues(tokyo_venues_prepared_onehot_grouped.iloc[ind, :], num_top_venues)\n",
    "\n",
    "neighborhoods_venues_sorted.head()"
   ]
  },
  {
   "cell_type": "markdown",
   "metadata": {},
   "source": [
    "Let's print each neighborhood along with the top 10 most common venues and there frequency to get a better understanding of the neighborhoods of Tokyo."
   ]
  },
  {
   "cell_type": "code",
   "execution_count": null,
   "metadata": {},
   "outputs": [],
   "source": [
    "num_top_venues = 10\n",
    "\n",
    "for hood in tokyo_venues_prepared_onehot_grouped['Neighborhood']:\n",
    "    print(\"----\"+hood+\"----\")\n",
    "    temp = tokyo_venues_prepared_onehot_grouped[tokyo_venues_prepared_onehot_grouped['Neighborhood'] == hood].T.reset_index()\n",
    "    temp.columns = ['venue','freq']\n",
    "    temp = temp.iloc[1:]\n",
    "    temp['freq'] = temp['freq'].astype(float)\n",
    "    temp = temp.round({'freq': 2})\n",
    "    print(temp.sort_values('freq', ascending=False).reset_index(drop=True).head(num_top_venues))\n",
    "    print('\\n')"
   ]
  },
  {
   "cell_type": "markdown",
   "metadata": {},
   "source": [
    "### Clustering the Neighborhoods with K-Means"
   ]
  },
  {
   "cell_type": "markdown",
   "metadata": {},
   "source": [
    "In order to find out which neighborhood could suit an Airbnb according to the venues, the neighborhoods are grouped together. Each group should reflect what venues mainly define the neighborhoods in that group. For this, the k-means clustering algorithm is used."
   ]
  },
  {
   "cell_type": "markdown",
   "metadata": {},
   "source": [
    "Drop 'Neightborhood' for better clustering results."
   ]
  },
  {
   "cell_type": "code",
   "execution_count": null,
   "metadata": {},
   "outputs": [],
   "source": [
    "tokyo_venues_prepared_onehot_grouped_clustering = tokyo_venues_prepared_onehot_grouped.drop('Neighborhood', 1)\n",
    "tokyo_venues_prepared_onehot_grouped_clustering.head()"
   ]
  },
  {
   "cell_type": "markdown",
   "metadata": {},
   "source": [
    "### What is the best K (Hyperparameter)"
   ]
  },
  {
   "cell_type": "markdown",
   "metadata": {},
   "source": [
    "#### Elbow Method"
   ]
  },
  {
   "cell_type": "code",
   "execution_count": null,
   "metadata": {},
   "outputs": [],
   "source": [
    "Sum_of_squared_distances = []\n",
    "K = range(1,15)\n",
    "for k in K:\n",
    "    km = KMeans(n_clusters=k)\n",
    "    km = km.fit(tokyo_venues_prepared_onehot_grouped_clustering)\n",
    "    Sum_of_squared_distances.append(km.inertia_)"
   ]
  },
  {
   "cell_type": "code",
   "execution_count": null,
   "metadata": {},
   "outputs": [],
   "source": [
    "plt.plot(K, Sum_of_squared_distances, 'bx-')\n",
    "plt.xlabel('k')\n",
    "plt.ylabel('Sum_of_squared_distances')\n",
    "plt.title('Elbow Method for Optimal k')\n",
    "plt.show()"
   ]
  },
  {
   "cell_type": "markdown",
   "metadata": {},
   "source": [
    "According to the elbow method the best k is 3."
   ]
  },
  {
   "cell_type": "markdown",
   "metadata": {
    "tags": []
   },
   "source": [
    "#### Silhouette Score "
   ]
  },
  {
   "cell_type": "code",
   "execution_count": null,
   "metadata": {
    "jupyter": {
     "source_hidden": true
    },
    "tags": []
   },
   "outputs": [],
   "source": [
    "max_score = 10\n",
    "scores = []\n",
    "\n",
    "for kclusters in range(2, max_score):\n",
    "    # Run k-means clustering\n",
    "    kmeans = KMeans(n_clusters = kclusters, init = 'k-means++', random_state = 0).fit_predict(tokyo_venues_prepared_onehot_grouped_clustering)\n",
    "    \n",
    "    # Gets the silhouette score\n",
    "    score = silhouette_score(tokyo_venues_prepared_onehot_grouped_clustering, kmeans)\n",
    "    scores.append(score)\n",
    "\n",
    "plt.figure(figsize=(20,10))\n",
    "plt.plot(np.arange(2, max_score), scores, 'ro-')\n",
    "plt.xlabel(\"Number of clusters\")\n",
    "plt.ylabel(\"Silhouette Score\")\n",
    "plt.xticks(np.arange(2, max_score))\n",
    "plt.show()"
   ]
  },
  {
   "cell_type": "markdown",
   "metadata": {},
   "source": [
    "### Run K-Means Clustering"
   ]
  },
  {
   "cell_type": "code",
   "execution_count": null,
   "metadata": {},
   "outputs": [],
   "source": [
    "# select best number of clusters\n",
    "kclusters = 3\n",
    "\n",
    "# run k-means clustering\n",
    "kmeans = KMeans(n_clusters=kclusters, random_state=0).fit(tokyo_venues_prepared_onehot_grouped_clustering)\n",
    "\n",
    "# check cluster labels generated for each row in the dataframe\n",
    "kmeans.labels_[0:38]"
   ]
  },
  {
   "cell_type": "markdown",
   "metadata": {},
   "source": [
    "### Display the Clustering Results"
   ]
  },
  {
   "cell_type": "markdown",
   "metadata": {},
   "source": [
    "Add the cluster labels to the neighborhoods_venues_sorted data frame."
   ]
  },
  {
   "cell_type": "code",
   "execution_count": null,
   "metadata": {
    "tags": []
   },
   "outputs": [],
   "source": [
    "# add clustering labels\n",
    "neighborhoods_venues_sorted.insert(0, 'Cluster Labels', kmeans.labels_)\n",
    "\n",
    "tokyo_venues_clustered = tokyo_venues_prepared[tokyo_venues_prepared.columns[0:3]].drop_duplicates()\n",
    "tokyo_venues_clustered.reset_index(drop = True, inplace = True)\n",
    "\n",
    "# merge tokyo_venues_clustered with neighborhoods_venues_sorted to add latitude/longitude for each neighborhood\n",
    "tokyo_venues_clustered = tokyo_venues_clustered.join(neighborhoods_venues_sorted.set_index('Neighborhood'), on='Neighborhood')"
   ]
  },
  {
   "cell_type": "code",
   "execution_count": null,
   "metadata": {},
   "outputs": [],
   "source": [
    "tokyo_venues_clustered.head()"
   ]
  },
  {
   "cell_type": "markdown",
   "metadata": {},
   "source": [
    "#### Cluster 1"
   ]
  },
  {
   "cell_type": "code",
   "execution_count": null,
   "metadata": {},
   "outputs": [],
   "source": [
    "tokyo_venues_clustered.loc[tokyo_venues_clustered['Cluster Labels'] == 0, tokyo_venues_clustered.columns[[0] + list(range(4, tokyo_venues_clustered.shape[1]))]]"
   ]
  },
  {
   "cell_type": "code",
   "execution_count": null,
   "metadata": {},
   "outputs": [],
   "source": [
    "cluster1 = tokyo_venues_clustered.loc[tokyo_venues_clustered['Cluster Labels'] == 0, tokyo_venues_clustered.columns[[0] + \n",
    "                                                                                    list(range(4, tokyo_venues_clustered.shape[1]))]]\n",
    "venues1 = (cluster1['1st Most Common Venue'].append(\n",
    "    cluster1['2nd Most Common Venue']).append(\n",
    "    cluster1['3rd Most Common Venue']).append(\n",
    "    cluster1['4th Most Common Venue']).append(\n",
    "    cluster1['5th Most Common Venue']).append(\n",
    "    cluster1['6th Most Common Venue']).append(\n",
    "    cluster1['7th Most Common Venue']).append(\n",
    "    cluster1['8th Most Common Venue']).append(\n",
    "    cluster1['9th Most Common Venue']).append(\n",
    "    cluster1['10th Most Common Venue']))\n",
    "\n",
    "print(venues1.value_counts().head(10))"
   ]
  },
  {
   "cell_type": "markdown",
   "metadata": {},
   "source": [
    "#### Cluster 2"
   ]
  },
  {
   "cell_type": "code",
   "execution_count": null,
   "metadata": {},
   "outputs": [],
   "source": [
    "tokyo_venues_clustered.loc[tokyo_venues_clustered['Cluster Labels'] == 1, tokyo_venues_clustered.columns[[0] + list(range(4, tokyo_venues_clustered.shape[1]))]]"
   ]
  },
  {
   "cell_type": "code",
   "execution_count": null,
   "metadata": {},
   "outputs": [],
   "source": [
    "cluster2 = tokyo_venues_clustered.loc[tokyo_venues_clustered['Cluster Labels'] == 1, tokyo_venues_clustered.columns[[0] + \n",
    "                                                                                    list(range(4, tokyo_venues_clustered.shape[1]))]]\n",
    "venues2 = (cluster2['1st Most Common Venue'].append(\n",
    "    cluster2['2nd Most Common Venue']).append(\n",
    "    cluster2['3rd Most Common Venue']).append(\n",
    "    cluster2['4th Most Common Venue']).append(\n",
    "    cluster2['5th Most Common Venue']).append(\n",
    "    cluster2['6th Most Common Venue']).append(\n",
    "    cluster2['7th Most Common Venue']).append(\n",
    "    cluster2['8th Most Common Venue']).append(\n",
    "    cluster2['9th Most Common Venue']).append(\n",
    "    cluster2['10th Most Common Venue']))\n",
    "\n",
    "print(venues2.value_counts().head(10))"
   ]
  },
  {
   "cell_type": "markdown",
   "metadata": {},
   "source": [
    "#### Cluster 3"
   ]
  },
  {
   "cell_type": "code",
   "execution_count": null,
   "metadata": {},
   "outputs": [],
   "source": [
    "tokyo_venues_clustered.loc[tokyo_venues_clustered['Cluster Labels'] == 2, tokyo_venues_clustered.columns[[0] + list(range(4, tokyo_venues_clustered.shape[1]))]]"
   ]
  },
  {
   "cell_type": "code",
   "execution_count": null,
   "metadata": {},
   "outputs": [],
   "source": [
    "cluster3 = tokyo_venues_clustered.loc[tokyo_venues_clustered['Cluster Labels'] == 2, tokyo_venues_clustered.columns[[0] + \n",
    "                                                                                    list(range(4, tokyo_venues_clustered.shape[1]))]]\n",
    "venues3 = (cluster3['1st Most Common Venue'].append(\n",
    "    cluster3['2nd Most Common Venue']).append(\n",
    "    cluster3['3rd Most Common Venue']).append(\n",
    "    cluster3['4th Most Common Venue']).append(\n",
    "    cluster3['5th Most Common Venue']).append(\n",
    "    cluster3['6th Most Common Venue']).append(\n",
    "    cluster3['7th Most Common Venue']).append(\n",
    "    cluster3['8th Most Common Venue']).append(\n",
    "    cluster3['9th Most Common Venue']).append(\n",
    "    cluster3['10th Most Common Venue']))\n",
    "\n",
    "print(venues3.value_counts().head(10))"
   ]
  },
  {
   "cell_type": "markdown",
   "metadata": {},
   "source": [
    "#### Display as Bar Chart"
   ]
  },
  {
   "cell_type": "code",
   "execution_count": null,
   "metadata": {},
   "outputs": [],
   "source": [
    "df_list = [venues1 ,venues2, venues3]\n",
    "fig, axes = plt.subplots(3, 1)\n",
    "\n",
    "for index, val in enumerate(df_list):\n",
    "        ax = val.value_counts().head(10).plot.barh(ax = axes[index], width=0.5, figsize=(15,10))\n",
    "        ax.invert_yaxis()\n",
    "        axes[index].set_title('Cluster {}'.format(index+1))\n",
    "        plt.sca(axes[index])\n",
    "        plt.xticks(np.arange(0, 17))\n",
    "        plt.xlabel('No. of Venues')\n",
    "\n",
    "fig.tight_layout()"
   ]
  },
  {
   "cell_type": "markdown",
   "metadata": {},
   "source": [
    "Due to the values that tourists have and the number of popular venues, cluster 2 is clearly the one to favor. The third cluster can also have its advantages, if there is significant low competition and the environment is examined closely. However, the first cluster seems to represent neighborhoods where the general population lives and therefore is not designed for tourists."
   ]
  },
  {
   "cell_type": "markdown",
   "metadata": {},
   "source": [
    "## Airbnb and Venues<a name=\"results\"></a>"
   ]
  },
  {
   "cell_type": "markdown",
   "metadata": {},
   "source": [
    "Let’s connect the analysis for Airbnbs and the venues to get the relevant information. First, let’s summarize the results visually. For this we will combine the heatmap of the distribution of Airbnbs with the classification of the neighborhoods."
   ]
  },
  {
   "cell_type": "code",
   "execution_count": null,
   "metadata": {},
   "outputs": [],
   "source": [
    "# set color scheme for the clusters\n",
    "x = np.arange(kclusters)\n",
    "ys = [i + x + (i*x)**2 for i in range(kclusters)]\n",
    "colors_array = cm.rainbow(np.linspace(0, 1, len(ys)))\n",
    "rainbow = [colors.rgb2hex(i) for i in colors_array]\n",
    "\n",
    "# add markers to the map\n",
    "markers_colors = []\n",
    "for lat, lon, poi, cluster in zip(tokyo_venues_clustered['Neighborhood Latitude'], tokyo_venues_clustered['Neighborhood Longitude'], tokyo_venues_clustered['Neighborhood'], tokyo_venues_clustered['Cluster Labels']):\n",
    "    label = folium.Popup(str(poi) + ' Cluster ' + str(cluster + 1), parse_html=True)\n",
    "    folium.CircleMarker(\n",
    "        [lat, lon],\n",
    "        radius=5,\n",
    "        popup=label,\n",
    "        color=rainbow[int(cluster)-1],\n",
    "        fill=True,\n",
    "        fill_color=rainbow[int(cluster)-1],\n",
    "        fill_opacity=0.7).add_to(heatMap_Tokyo)\n",
    "       \n",
    "heatMap_Tokyo"
   ]
  },
  {
   "cell_type": "markdown",
   "metadata": {},
   "source": [
    "The original interpretation of the clusters is confirmed by the visual representation, because Airbnbs are distributed accordingly.\n",
    "\n",
    "There are almost no Airbnbs in the first cluster (red). Airbnbs that still belong to the first cluster are relatively cheap and have few average monthly reviews. There is almost no competition, but the owners try to attract customers with low prices. It can be stated that it is not desirable to open an Airbnb in the first cluster.\n",
    "\n",
    "The third cluster (green) is mainly located between the city center and the first cluster. However, tourists want to explore the city and are attracted to the city center. The areas of the third cluster which are closer to the city center have disadvantages in the environment compared to the second cluster. As the price heatmap map shows, the surrounding area is one of the main reasons why tourists choose an Aribnb. The focus should therefore be on uncovering market gaps in the second cluster (purple).\n",
    "\n",
    "The following neighborhoods fall under the desirable cluster (cluster 2):"
   ]
  },
  {
   "cell_type": "markdown",
   "metadata": {},
   "source": [
    "The following neighborhoods fall under the first cluster:"
   ]
  },
  {
   "cell_type": "code",
   "execution_count": null,
   "metadata": {},
   "outputs": [],
   "source": [
    "tokyo_venues_clustered.loc[tokyo_venues_clustered['Cluster Labels'] == 1, tokyo_venues_clustered.columns[[0] + list(range(4, tokyo_venues_clustered.shape[1]))]]"
   ]
  },
  {
   "cell_type": "markdown",
   "metadata": {},
   "source": [
    "Let’s visualize each neighborhood in the third cluster with their top 10 most common venues and its frequencies to get a better understanding of those neighborhoods."
   ]
  },
  {
   "cell_type": "code",
   "execution_count": null,
   "metadata": {},
   "outputs": [],
   "source": [
    "targetNeighborhoods = []\n",
    "\n",
    "for index, row in tokyo_venues_clustered.loc[tokyo_venues_clustered['Cluster Labels'] == 1, tokyo_venues_clustered.columns[[0]]].iterrows():\n",
    "    targetNeighborhoods.append(row[\"Neighborhood\"])\n",
    "\n",
    "targetNeighborhoods"
   ]
  },
  {
   "cell_type": "code",
   "execution_count": null,
   "metadata": {},
   "outputs": [],
   "source": [
    "num_top_venues = 10\n",
    "fig, axes = plt.subplots(len(targetNeighborhoods), 1)\n",
    "\n",
    "index = 0\n",
    "for hood in tokyo_venues_prepared_onehot_grouped['Neighborhood']:\n",
    "    if hood in targetNeighborhoods:\n",
    "        \n",
    "        temp = tokyo_venues_prepared_onehot_grouped[tokyo_venues_prepared_onehot_grouped['Neighborhood'] == hood].T.reset_index()\n",
    "        temp.columns = ['venue','freq']\n",
    "        temp = temp.iloc[1:]\n",
    "        temp['freq'] = temp['freq'].astype(float)\n",
    "        temp = temp.round({'freq': 2})\n",
    "        \n",
    "        ax = temp.sort_values('freq', ascending=False).set_index('venue').head(num_top_venues).plot.barh(ax = axes[index], width=0.5, figsize=(15,10*6))\n",
    "        ax.invert_yaxis()\n",
    "        axes[index].set_title('Neighborhood {}'.format(hood))\n",
    "        plt.sca(axes[index])\n",
    "        plt.xticks([0.0, 0.1, 0.2, 0.3])\n",
    "        plt.xlabel('Frequenzy of Venues')\n",
    "        \n",
    "        index += 1\n",
    "\n",
    "fig.tight_layout()"
   ]
  },
  {
   "cell_type": "markdown",
   "metadata": {},
   "source": [
    "From this selection, I would exclude less attractive neighborhoods for a new Airbnb based on the comparison of the most popular places in each neighborhood. In combination with the heatmaps, areas can be discovered where an opening of a new Airbnb could make sense."
   ]
  },
  {
   "cell_type": "markdown",
   "metadata": {},
   "source": [
    "# Results and Discussion <a name=\"resultsDiscussion\"></a>"
   ]
  },
  {
   "cell_type": "markdown",
   "metadata": {},
   "source": [
    "Although I have never been to Tokyo myself, I was able to get a detailed impression of Tokyo through the data analysis. The data analysis clearly shows that the distribution of Airbnbs are linked to the attractiveness of each neighborhood. The concept of the Invisible Hand from Adam Smith was confirmed. This supports the correctness of this data-driven analysis.\n",
    "\n",
    "Although competition is concentrated in some neighborhoods, it appears that demand has not yet been fully satisfied. At the same time, there are some areas that indicate high occupancy (due to the average monthly reviews), but have little direct competition.\n",
    "\n",
    "According to this analysis Shinjuku, Shibuya, Taito, Asakusa, Shinagawa or Chiyoda are neighborhoods which should have locations where the demand could be high enough to cover new Airbnbs for tourism."
   ]
  },
  {
   "cell_type": "markdown",
   "metadata": {},
   "source": [
    "# Conclusion <a name=\"conclusion\"></a>"
   ]
  },
  {
   "cell_type": "markdown",
   "metadata": {},
   "source": [
    "Purpose of this project was to identify neighborhoods in Tokyo which are suited for new Airbnbs. To achieve this goal the competitive situation as well as the environment were analyzed with the help of public available data. My secondary research has shown that the results obtained are most likely correct. However, I do not recommend making a final decision based on this analysis only. In most cases a meaningful analysis should consist of qualitative and quantitative data. Therefore this analysis can be used as a filter to focus the qualitative research on the right areas.\n",
    "\n",
    "Furthermore, it must be mentioned that with more accurate data on the occupancy of Airbnbs, levels of noise, proximity to major roads, real estate availability, prices, social and economic dynamics of every neighborhood etc., an even better result can be achieved.\n",
    "\n",
    "A logical thought process, visualizations, the ability to interpret data and to critically question one’s own assumptions are essential for data analysis. The technology and the mathematical understanding allows to make the best use of these skills.\n",
    "\n",
    "It becomes clear that competitive advantages result from the insights or from the questions that arise when suitable data is analyzed. Therefore it is likely that the future belongs to organizations that collect data in large quantities and have the right people to analyze it."
   ]
  }
 ],
 "metadata": {
  "kernelspec": {
   "display_name": "Python 3",
   "language": "python",
   "name": "python3"
  },
  "language_info": {
   "codemirror_mode": {
    "name": "ipython",
    "version": 3
   },
   "file_extension": ".py",
   "mimetype": "text/x-python",
   "name": "python",
   "nbconvert_exporter": "python",
   "pygments_lexer": "ipython3",
   "version": "3.9.1"
  }
 },
 "nbformat": 4,
 "nbformat_minor": 4
}
